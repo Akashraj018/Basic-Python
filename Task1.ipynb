{
  "nbformat": 4,
  "nbformat_minor": 0,
  "metadata": {
    "colab": {
      "provenance": []
    },
    "kernelspec": {
      "name": "python3",
      "display_name": "Python 3"
    },
    "language_info": {
      "name": "python"
    }
  },
  "cells": [
    {
      "cell_type": "code",
      "execution_count": null,
      "metadata": {
        "id": "swGVkgvT5S3V"
      },
      "outputs": [],
      "source": []
    },
    {
      "cell_type": "markdown",
      "source": [
        "1.What is Python, and why is it popular\n",
        "\n",
        "Python is programming language that is easy to understand and write.That's why it is popular\n",
        "\n"
      ],
      "metadata": {
        "id": "zEENvc4z6i9W"
      }
    },
    {
      "cell_type": "markdown",
      "source": [
        "2.What is an interpreter in Python\n",
        "\n",
        "Interpreter means the code is execute line by line that's helpus to find the error and easy to debugging"
      ],
      "metadata": {
        "id": "OdeVeaVz7XVe"
      }
    },
    {
      "cell_type": "markdown",
      "source": [
        "3.What are pre-defined keywords in Python\n",
        "\n",
        "In python some word are reserved with some special meaning and can not use as identifiers.Those word are reserved is konwn as Keywords.\n",
        "\n"
      ],
      "metadata": {
        "id": "7A1Fo-O18iaa"
      }
    },
    {
      "cell_type": "markdown",
      "source": [
        "4.Can keywords be used as variable names?\n",
        "\n",
        "No , Keywords are not used as variable name .\n"
      ],
      "metadata": {
        "id": "vgL2_z8r9aHW"
      }
    },
    {
      "cell_type": "markdown",
      "source": [
        " 5.What is mutability in Python\n",
        "\n",
        " Mutability means the objects are changeable."
      ],
      "metadata": {
        "id": "rw6XDLFb-I9Q"
      }
    },
    {
      "cell_type": "markdown",
      "source": [
        "6.Why are lists mutable, but tuples are immutable\n",
        "\n",
        "List are mutable beacuase in lists all elements are block there own memory that why it easy to modified.\n",
        "\n",
        "Tuples are immutable beacuase all the elements are save in single memeory block.\n"
      ],
      "metadata": {
        "id": "G84J16ZE-lg6"
      }
    },
    {
      "cell_type": "markdown",
      "source": [
        "7.What is the difference between “==” and “is” operators in Python\n",
        "\n",
        "\"==\" is use compare values.it is use to compare the values.\n",
        "\"is\" is use compares identity values. it is use to identity the values."
      ],
      "metadata": {
        "id": "vOkdTsoX_4OR"
      }
    },
    {
      "cell_type": "markdown",
      "source": [
        "8.What are logical operators in Python\n",
        "\n",
        "it is use to combine conditional statements or Boolean expressions.Allow us evaluate multiple conditions in a single statement.logical operators are (AND, OR , NOT)"
      ],
      "metadata": {
        "id": "KyOBOwRtDpjT"
      }
    },
    {
      "cell_type": "markdown",
      "source": [
        "9.What is type casting in Python\n",
        "\n",
        "Type Casting is the process to change data type form one to another."
      ],
      "metadata": {
        "id": "XR37II4-F1F7"
      }
    },
    {
      "cell_type": "markdown",
      "source": [
        "10.What is the difference between implicit and explicit type casting .\n",
        "\n",
        "Implicit type casting is when python automatically change the data type.\n",
        "It is perdifine in python.\n",
        "Explicit type castind is when we manually change the data type."
      ],
      "metadata": {
        "id": "bNqC81aHH17Z"
      }
    },
    {
      "cell_type": "markdown",
      "source": [
        "11.What is the purpose of conditional statements in Python\n",
        "\n",
        "Conditional statements in python is used to execute code based on the evaluation of one or more condition."
      ],
      "metadata": {
        "id": "wCzmDy7uIn4q"
      }
    },
    {
      "cell_type": "markdown",
      "source": [
        "12.How does the elif statement work\n",
        "\n",
        "elif statement is check multipe expresion, when if match the one condition .it execute the block of code."
      ],
      "metadata": {
        "id": "5hxuYHH9JeAQ"
      }
    },
    {
      "cell_type": "markdown",
      "source": [
        "13.What is the difference between for and while loops\n",
        "\n",
        "For Loop - loop will execute a block of statements for each item in the sequence.\n",
        "\n",
        "While loop - loop will continue to run as long as the condition remains true.\n",
        "\n"
      ],
      "metadata": {
        "id": "_latmTS9KOOa"
      }
    },
    {
      "cell_type": "markdown",
      "source": [
        "14.Describe a scenario where a while loop is more suitable than a for loop\n",
        "\n",
        "While loop is more suitable where we want input.\n",
        "example - user login authentication beacuse we donot know in advance how many attempts the user will need."
      ],
      "metadata": {
        "id": "qD9zIr0eLwlh"
      }
    },
    {
      "cell_type": "markdown",
      "source": [],
      "metadata": {
        "id": "j4Iz-qS2NEAE"
      }
    },
    {
      "cell_type": "code",
      "source": [
        "#  Write a Python program to print \"Hello, World!\"\n",
        "print(\"Hello, World!\")"
      ],
      "metadata": {
        "colab": {
          "base_uri": "https://localhost:8080/"
        },
        "id": "OnNkTDLhNE9x",
        "outputId": "b82b5ac7-0f04-485f-acef-2c131a492e3c"
      },
      "execution_count": 1,
      "outputs": [
        {
          "output_type": "stream",
          "name": "stdout",
          "text": [
            "Hello, World!\n"
          ]
        }
      ]
    },
    {
      "cell_type": "code",
      "source": [
        "#Write a Python program that displays your name and age\n",
        "a = \" My Name is Akash Raj and age = 25\"\n",
        "print(a)\n"
      ],
      "metadata": {
        "colab": {
          "base_uri": "https://localhost:8080/"
        },
        "id": "e7IWgv_2N39U",
        "outputId": "17522c91-e250-4132-de28-a45d61a123e3"
      },
      "execution_count": 7,
      "outputs": [
        {
          "output_type": "stream",
          "name": "stdout",
          "text": [
            " My Name is Akash Raj and age = 25\n"
          ]
        }
      ]
    },
    {
      "cell_type": "code",
      "source": [
        "# Write code to print all the pre-defined keywords in Python using the keyword library\n",
        "import keyword\n",
        "print(keyword.kwlist)\n"
      ],
      "metadata": {
        "colab": {
          "base_uri": "https://localhost:8080/"
        },
        "id": "v8CxYsYEOHXs",
        "outputId": "b9da5f41-431b-4acb-8f17-9cf110884187"
      },
      "execution_count": 8,
      "outputs": [
        {
          "output_type": "stream",
          "name": "stdout",
          "text": [
            "['False', 'None', 'True', 'and', 'as', 'assert', 'async', 'await', 'break', 'class', 'continue', 'def', 'del', 'elif', 'else', 'except', 'finally', 'for', 'from', 'global', 'if', 'import', 'in', 'is', 'lambda', 'nonlocal', 'not', 'or', 'pass', 'raise', 'return', 'try', 'while', 'with', 'yield']\n"
          ]
        }
      ]
    },
    {
      "cell_type": "code",
      "source": [
        "#Write a program that checks if a given word is a Python keyword.\n",
        "import keyword\n",
        "word = input(\"Enter a word: \")\n",
        "if keyword.iskeyword(word):\n",
        "    print(f\"{word} is a Python keyword.\")\n",
        "else:\n",
        "    print(f\"{word} is not a Python keyword.\")"
      ],
      "metadata": {
        "colab": {
          "base_uri": "https://localhost:8080/"
        },
        "id": "oGDI-YYQOV9M",
        "outputId": "35e770d8-c4a3-4d04-95fb-29a3cc4467d2"
      },
      "execution_count": 9,
      "outputs": [
        {
          "output_type": "stream",
          "name": "stdout",
          "text": [
            "Enter a word: break\n",
            "break is a Python keyword.\n"
          ]
        }
      ]
    },
    {
      "cell_type": "code",
      "source": [
        "from typing import Tuple\n",
        "#Create a list and tuple in Python, and demonstrate how attempting to change an element works differently\n",
        "#for each\n",
        "\n",
        "#list\n",
        "\n",
        "#list = [1,2,3,4,5]\n",
        "#print(list)\n",
        "\n",
        "#list[3] = 90\n",
        "#print(list)\n",
        "\n",
        "#Tuple\n",
        "\n",
        "#Tuple = (1,2,3,4,5)\n",
        "#print(Tuple)\n",
        "\n",
        "Tuple[3] = 90\n",
        "print(Tuple)"
      ],
      "metadata": {
        "colab": {
          "base_uri": "https://localhost:8080/",
          "height": 193
        },
        "id": "mmxmxAFAOrAi",
        "outputId": "094a71af-661d-4590-d2f1-c1c779bbee24"
      },
      "execution_count": 16,
      "outputs": [
        {
          "output_type": "error",
          "ename": "TypeError",
          "evalue": "'_TupleType' object does not support item assignment",
          "traceback": [
            "\u001b[0;31m---------------------------------------------------------------------------\u001b[0m",
            "\u001b[0;31mTypeError\u001b[0m                                 Traceback (most recent call last)",
            "\u001b[0;32m/tmp/ipython-input-2580812238.py\u001b[0m in \u001b[0;36m<cell line: 0>\u001b[0;34m()\u001b[0m\n\u001b[1;32m     12\u001b[0m \u001b[0;31m#print(Tuple)\u001b[0m\u001b[0;34m\u001b[0m\u001b[0;34m\u001b[0m\u001b[0m\n\u001b[1;32m     13\u001b[0m \u001b[0;34m\u001b[0m\u001b[0m\n\u001b[0;32m---> 14\u001b[0;31m \u001b[0mTuple\u001b[0m\u001b[0;34m[\u001b[0m\u001b[0;36m3\u001b[0m\u001b[0;34m]\u001b[0m \u001b[0;34m=\u001b[0m \u001b[0;36m90\u001b[0m\u001b[0;34m\u001b[0m\u001b[0;34m\u001b[0m\u001b[0m\n\u001b[0m\u001b[1;32m     15\u001b[0m \u001b[0mprint\u001b[0m\u001b[0;34m(\u001b[0m\u001b[0mTuple\u001b[0m\u001b[0;34m)\u001b[0m\u001b[0;34m\u001b[0m\u001b[0;34m\u001b[0m\u001b[0m\n",
            "\u001b[0;31mTypeError\u001b[0m: '_TupleType' object does not support item assignment"
          ]
        }
      ]
    },
    {
      "cell_type": "code",
      "source": [
        "# Write a function to demonstrate the behavior of mutable and immutable arguments.\n",
        "#list_cont = [1, 2, 3, 4.3, 3+5j, True, \"Akash\"]\n",
        "#Mutable\n",
        "#print(list_cont)\n",
        "\n",
        "#list_cont[3] = 90\n",
        "#print(list_cont)\n",
        "\n",
        "#immutable\n",
        "a= \"aKash\"\n",
        "print(a)\n",
        "\n",
        "a[3] = \"A\"\n",
        "print(a)"
      ],
      "metadata": {
        "colab": {
          "base_uri": "https://localhost:8080/",
          "height": 211
        },
        "id": "j9MPmVpXQS_z",
        "outputId": "154fc853-9e59-43c7-aab5-930f2f6e0d4f"
      },
      "execution_count": 24,
      "outputs": [
        {
          "output_type": "stream",
          "name": "stdout",
          "text": [
            "aKash\n"
          ]
        },
        {
          "output_type": "error",
          "ename": "TypeError",
          "evalue": "'str' object does not support item assignment",
          "traceback": [
            "\u001b[0;31m---------------------------------------------------------------------------\u001b[0m",
            "\u001b[0;31mTypeError\u001b[0m                                 Traceback (most recent call last)",
            "\u001b[0;32m/tmp/ipython-input-1488563329.py\u001b[0m in \u001b[0;36m<cell line: 0>\u001b[0;34m()\u001b[0m\n\u001b[1;32m     10\u001b[0m \u001b[0mprint\u001b[0m\u001b[0;34m(\u001b[0m\u001b[0ma\u001b[0m\u001b[0;34m)\u001b[0m\u001b[0;34m\u001b[0m\u001b[0;34m\u001b[0m\u001b[0m\n\u001b[1;32m     11\u001b[0m \u001b[0;34m\u001b[0m\u001b[0m\n\u001b[0;32m---> 12\u001b[0;31m \u001b[0ma\u001b[0m\u001b[0;34m[\u001b[0m\u001b[0;36m3\u001b[0m\u001b[0;34m]\u001b[0m \u001b[0;34m=\u001b[0m \u001b[0;34m\"A\"\u001b[0m\u001b[0;34m\u001b[0m\u001b[0;34m\u001b[0m\u001b[0m\n\u001b[0m\u001b[1;32m     13\u001b[0m \u001b[0mprint\u001b[0m\u001b[0;34m(\u001b[0m\u001b[0ma\u001b[0m\u001b[0;34m)\u001b[0m\u001b[0;34m\u001b[0m\u001b[0;34m\u001b[0m\u001b[0m\n",
            "\u001b[0;31mTypeError\u001b[0m: 'str' object does not support item assignment"
          ]
        }
      ]
    },
    {
      "cell_type": "code",
      "source": [
        "#Write a program that performs basic arithmetic operations on two user-input numbers\n",
        "a = int(input(\"enter the first number\"))\n",
        "b = int(input(\"enter the second number\"))\n",
        "a = int(a)\n",
        "b = int(b)\n",
        "print (a+b)\n",
        "print (a-b)\n",
        "print (a*b)\n",
        "print (a/b)\n",
        "print (a**b)"
      ],
      "metadata": {
        "colab": {
          "base_uri": "https://localhost:8080/"
        },
        "id": "m0wgUdkeSvCR",
        "outputId": "c967eaab-a4b5-46e5-ce76-231262138b81"
      },
      "execution_count": 37,
      "outputs": [
        {
          "output_type": "stream",
          "name": "stdout",
          "text": [
            "enter the first number9\n",
            "enter the second number4\n",
            "13\n",
            "5\n",
            "36\n",
            "2.25\n",
            "6561\n"
          ]
        }
      ]
    },
    {
      "cell_type": "code",
      "source": [
        "# Write a program to demonstrate the use of logical operators\n",
        "#x = 2\n",
        "#print(x>3 and x<10)\n",
        "#print(x>3 or x<10)\n",
        "\n",
        "# Not\n",
        "print(8>3)\n",
        "print(not(9>3))"
      ],
      "metadata": {
        "colab": {
          "base_uri": "https://localhost:8080/"
        },
        "id": "4evcWrf9WdXi",
        "outputId": "caf570d6-b117-402f-d77d-e15afcee7bf8"
      },
      "execution_count": 42,
      "outputs": [
        {
          "output_type": "stream",
          "name": "stdout",
          "text": [
            "True\n",
            "False\n"
          ]
        }
      ]
    },
    {
      "cell_type": "code",
      "source": [
        "# Write a Python program to convert user input from string to integer, float,\n",
        "# and boolean types\n",
        "\n",
        "# Integer\n",
        "#number1 = input()\n",
        "#number1 = int(number1)\n",
        "#number2 = input()\n",
        "#number2 = int(number2)\n",
        "#print(number1 + number2)\n",
        "\n",
        "# float\n",
        "##number1 = input()\n",
        "#number1 = float(number1)\n",
        "#number2 = input()\n",
        "#number2 = float(number2)\n",
        "#print(number1 + number2)\n",
        "\n",
        "#boolean\n",
        "number1 = input()\n",
        "number1 = bool(number1)\n",
        "number2 = input()\n",
        "number2 = bool(number2)\n",
        "print(number1 + number2)"
      ],
      "metadata": {
        "colab": {
          "base_uri": "https://localhost:8080/"
        },
        "id": "0kAGISSUXj6U",
        "outputId": "0371a9b2-6606-4832-ee5e-8b763bae7a15"
      },
      "execution_count": 48,
      "outputs": [
        {
          "output_type": "stream",
          "name": "stdout",
          "text": [
            "87\n",
            "87\n",
            "2\n"
          ]
        }
      ]
    },
    {
      "cell_type": "code",
      "source": [
        "# Write code to demonstrate type casting with list elements\n",
        " # string to integer\n",
        "#string_list = [\"1\", \"2\", \"3\", \"4\"]\n",
        "#int_list = [int(x) for x in string_list]\n",
        "#print(\"Original List (Strings):\", string_list)\n",
        "#print(\"Type Casted List (Integers):\", int_list)\n",
        "\n",
        "# integers to floats\n",
        " #int_list = [1, 2, 3, 4]\n",
        " #float_list = [float(x) for x in int_list]\n",
        " #print(\"\\nOriginal List (Integers):\", int_list)\n",
        " #print(\"Type Casted List (Floats):\", float_list)\n",
        "\n",
        ""
      ],
      "metadata": {
        "colab": {
          "base_uri": "https://localhost:8080/"
        },
        "id": "PIq26uWfssux",
        "outputId": "0cfdb9b3-af8f-4817-a429-eeaf8e286083"
      },
      "execution_count": 2,
      "outputs": [
        {
          "output_type": "stream",
          "name": "stdout",
          "text": [
            "\n",
            "Original List (Integers): [1, 2, 3, 4]\n",
            "Type Casted List (Floats): [1.0, 2.0, 3.0, 4.0]\n"
          ]
        }
      ]
    },
    {
      "cell_type": "code",
      "source": [
        "#Write a program that checks if a number is positive, negative, or zero\n",
        "a = float(input(\"Enter a number: \"))\n",
        "if a > 0:\n",
        "    print(\"The number is positive.\")\n",
        "elif a < 0:\n",
        "    print(\"The number is negative.\")\n",
        "else:\n",
        "    print(\"The number is zero.\")\n"
      ],
      "metadata": {
        "colab": {
          "base_uri": "https://localhost:8080/"
        },
        "id": "8Ku5g6j1wMXM",
        "outputId": "9fa94a9c-f0e5-4338-d663-35059306b70b"
      },
      "execution_count": 4,
      "outputs": [
        {
          "output_type": "stream",
          "name": "stdout",
          "text": [
            "Enter a number: 6\n",
            "The number is positive.\n"
          ]
        }
      ]
    },
    {
      "cell_type": "code",
      "source": [
        "for i in range(11):\n",
        "  print(i)"
      ],
      "metadata": {
        "colab": {
          "base_uri": "https://localhost:8080/"
        },
        "id": "2BflbMdzwYpN",
        "outputId": "e4947fcf-86f4-491f-c43b-b0e94b49a82d"
      },
      "execution_count": 6,
      "outputs": [
        {
          "output_type": "stream",
          "name": "stdout",
          "text": [
            "0\n",
            "1\n",
            "2\n",
            "3\n",
            "4\n",
            "5\n",
            "6\n",
            "7\n",
            "8\n",
            "9\n",
            "10\n"
          ]
        }
      ]
    },
    {
      "cell_type": "code",
      "source": [
        "#  Write a Python program to find the sum of all even numbers between 1 and 50\n",
        "sum_even = 0\n",
        "num = 1\n",
        "while num <= 50:\n",
        "  if num % 2 == 0:\n",
        "    sum_even += num\n",
        "  num += 1\n",
        "print(\"The sum of even numbers between 1 and 50 is:\", sum_even)\n",
        "\n"
      ],
      "metadata": {
        "colab": {
          "base_uri": "https://localhost:8080/"
        },
        "id": "0gsxoX3OwwZM",
        "outputId": "986d4938-fde6-46f3-ae01-8b82ef45e36f"
      },
      "execution_count": 8,
      "outputs": [
        {
          "output_type": "stream",
          "name": "stdout",
          "text": [
            "The sum of even numbers between 1 and 50 is: 650\n"
          ]
        }
      ]
    },
    {
      "cell_type": "code",
      "source": [
        " # Write a program to reverse a string using a while loop\n",
        " s = \"Akash\"\n",
        " stack = list(s)\n",
        " reverse = \"\"\n",
        " while stack:\n",
        "    reverse += stack.pop()\n",
        "print(reverse)"
      ],
      "metadata": {
        "colab": {
          "base_uri": "https://localhost:8080/"
        },
        "id": "CAuas5OjyfhN",
        "outputId": "03749ef6-c1a9-4319-e365-dee303ca9e6f"
      },
      "execution_count": 20,
      "outputs": [
        {
          "output_type": "stream",
          "name": "stdout",
          "text": [
            "hsakA\n"
          ]
        }
      ]
    },
    {
      "cell_type": "code",
      "source": [
        "#Write a Python program to calculate the factorial of a number provided by the user using a while loop\n",
        "num = int(input(\"Enter a number: \"))\n",
        "factorial = 1\n",
        "current = 1\n",
        "while current <= num:\n",
        "    factorial *= current\n",
        "    current += 1\n",
        "print(f\"The factorial of {num} is {factorial}\")\n"
      ],
      "metadata": {
        "colab": {
          "base_uri": "https://localhost:8080/"
        },
        "id": "vQ1lOWKf7C2w",
        "outputId": "0bfd6cea-aff5-4812-9b6d-133f8148b667"
      },
      "execution_count": 24,
      "outputs": [
        {
          "output_type": "stream",
          "name": "stdout",
          "text": [
            "Enter a number: 8\n",
            "The factorial of 8 is 40320\n"
          ]
        }
      ]
    }
  ]
}